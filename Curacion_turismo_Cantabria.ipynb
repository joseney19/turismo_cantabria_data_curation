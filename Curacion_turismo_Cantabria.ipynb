{
 "cells": [
  {
   "cell_type": "markdown",
   "metadata": {},
   "source": [
    "# Curación Data Set Turismo Cantabria\n",
    "\n",
    "Flujo que automatice la descarga, curación y publicación de los datos utilizando distintas herramientas como Zenodo, github y librerías de python para el análisis de datos"
   ]
  },
  {
   "cell_type": "markdown",
   "metadata": {},
   "source": [
    "## Nombres:\n",
    "#### - Ezequiel Cimadevilla Alvarez\n",
    "#### - Jose Ney Gandica Cardenas\n",
    "#### - Pablo Méndez Gutiérrez\n",
    "#### - Carlos Meneses\n",
    "#### - Pedro Jose Fernandez Manteca"
   ]
  },
  {
   "cell_type": "code",
   "execution_count": 1,
   "metadata": {},
   "outputs": [],
   "source": [
    "# Librerías necesarias\n",
    "\n",
    "import xml.etree.ElementTree as ET\n",
    "import requests\n",
    "import json\n",
    "import zipfile\n",
    "from IPython.core.display import display, HTML\n",
    "import pandas as pd\n",
    "import numpy as np\n",
    "import matplotlib.pyplot as plt\n",
    "import itertools as it\n",
    "\n"
   ]
  },
  {
   "cell_type": "markdown",
   "metadata": {},
   "source": [
    "# Publicación de datos iniciales\n",
    "\n",
    "## Community  \n",
    "\n",
    "https://zenodo.org/communities/dlcturismouc/"
   ]
  },
  {
   "cell_type": "markdown",
   "metadata": {},
   "source": [
    "\n",
    "\n",
    "\n",
    "\n",
    "[![DOI](https://zenodo.org/badge/DOI/10.5281/zenodo.2544172.svg)](https://doi.org/10.5281/zenodo.2544172)\n",
    "\n",
    "\n"
   ]
  },
  {
   "cell_type": "markdown",
   "metadata": {},
   "source": [
    "# Publicación de script de Análisis\n",
    "\n",
    "En Github + Zenodo"
   ]
  },
  {
   "cell_type": "markdown",
   "metadata": {},
   "source": [
    "mark down here"
   ]
  },
  {
   "cell_type": "markdown",
   "metadata": {},
   "source": [
    "# Descarga de datos originales\n",
    "\n",
    "\n",
    "Métodos OAI-PMH\n",
    "\n",
    "Pista: url+'?verb=ListRecords&set=nombre_set"
   ]
  },
  {
   "cell_type": "code",
   "execution_count": 2,
   "metadata": {
    "scrolled": true
   },
   "outputs": [
    {
     "name": "stdout",
     "output_type": "stream",
     "text": [
      "{http://www.openarchives.org/OAI/2.0/}OAI-PMH + \n",
      "  \n",
      "{http://www.openarchives.org/OAI/2.0/}responseDate + 2019-01-19T13:35:59Z\n",
      "{http://www.openarchives.org/OAI/2.0/}request + https://zenodo.org/oai2d\n",
      "{http://www.openarchives.org/OAI/2.0/}GetRecord + \n",
      "    \n",
      "{http://www.openarchives.org/OAI/2.0/}record + \n",
      "      \n",
      "{http://www.openarchives.org/OAI/2.0/}header + \n",
      "        \n",
      "{http://www.openarchives.org/OAI/2.0/}identifier + oai:zenodo.org:2544172\n",
      "{http://www.openarchives.org/OAI/2.0/}datestamp + 2019-01-19T13:32:39Z\n",
      "{http://www.openarchives.org/OAI/2.0/}setSpec + openaire_data\n",
      "{http://www.openarchives.org/OAI/2.0/}setSpec + user-dlcturismouc\n",
      "{http://www.openarchives.org/OAI/2.0/}metadata + \n",
      "        \n",
      "{http://datacite.org/schema/kernel-3}resource + \n",
      "          \n",
      "{http://datacite.org/schema/kernel-3}identifier + 10.5281/zenodo.2544172\n",
      "{http://datacite.org/schema/kernel-3}creators + \n",
      "            \n",
      "{http://datacite.org/schema/kernel-3}creator + \n",
      "              \n",
      "{http://datacite.org/schema/kernel-3}creatorName + UC\n",
      "{http://datacite.org/schema/kernel-3}affiliation + Students\n",
      "{http://datacite.org/schema/kernel-3}titles + \n",
      "            \n",
      "{http://datacite.org/schema/kernel-3}title + pernoctaciones_estancia_media_procedencia_zonas_Cantabria\n",
      "{http://datacite.org/schema/kernel-3}publisher + Zenodo\n",
      "{http://datacite.org/schema/kernel-3}publicationYear + 2019\n",
      "{http://datacite.org/schema/kernel-3}subjects + \n",
      "            \n",
      "{http://datacite.org/schema/kernel-3}subject + pernoctaciones\n",
      "{http://datacite.org/schema/kernel-3}subject + Cantabria\n",
      "{http://datacite.org/schema/kernel-3}dates + \n",
      "            \n",
      "{http://datacite.org/schema/kernel-3}date + 2019-01-19\n",
      "{http://datacite.org/schema/kernel-3}resourceType + None\n",
      "{http://datacite.org/schema/kernel-3}alternateIdentifiers + \n",
      "            \n",
      "{http://datacite.org/schema/kernel-3}alternateIdentifier + https://zenodo.org/record/2544172\n",
      "{http://datacite.org/schema/kernel-3}relatedIdentifiers + \n",
      "            \n",
      "{http://datacite.org/schema/kernel-3}relatedIdentifier + 10.5281/zenodo.2544171\n",
      "{http://datacite.org/schema/kernel-3}relatedIdentifier + https://zenodo.org/communities/dlcturismouc\n",
      "{http://datacite.org/schema/kernel-3}version + 1.0\n",
      "{http://datacite.org/schema/kernel-3}rightsList + \n",
      "            \n",
      "{http://datacite.org/schema/kernel-3}rights + Creative Commons Attribution 4.0 International\n",
      "{http://datacite.org/schema/kernel-3}rights + Open Access\n",
      "{http://datacite.org/schema/kernel-3}descriptions + \n",
      "            \n",
      "{http://datacite.org/schema/kernel-3}description + <p>DATOS ORIGINALES</p>\n",
      "\n",
      "<p>http://www.icane.es/data/travelers-overnight-stays-average-stays-origin-areas/results#content</p>\n",
      "{http://datacite.org/schema/kernel-3}description + http://www.icane.es/data/travelers-overnight-stays-average-stays-origin-areas/results#content\n",
      "{http://datacite.org/schema/kernel-3}description + {\"references\": [\"http://www.icane.es/data/travelers-overnight-stays-average-stays-origin-areas/results#content\"]}\n"
     ]
    },
    {
     "data": {
      "text/plain": [
       "'10.5281/zenodo.2544171'"
      ]
     },
     "execution_count": 2,
     "metadata": {},
     "output_type": "execute_result"
    }
   ],
   "source": [
    "oai = requests.get('https://zenodo.org/oai2d?verb=GetRecord&metadataPrefix=datacite3&identifier=oai:zenodo.org:2544172')\n",
    "oaiTree = ET.fromstring(oai.text)\n",
    "ctrl = 0\n",
    "for i in oaiTree.iter():\n",
    "    print(i.tag, '+', i.text)\n",
    "    if (ctrl == 0) and i.tag == '{http://datacite.org/schema/kernel-3}relatedIdentifier':\n",
    "        ctrl=1\n",
    "        doi = i.text\n",
    "doi"
   ]
  },
  {
   "cell_type": "code",
   "execution_count": 3,
   "metadata": {},
   "outputs": [],
   "source": [
    "url = 'https://doi.org/'+doi #DOI solver URL\n",
    "headers = {'Accept': 'application/vnd.citationstyles.csl+json;q=1.0'} #Type of response accpeted\n",
    "r = requests.get(url, headers=headers) #POST with headers"
   ]
  },
  {
   "cell_type": "code",
   "execution_count": 4,
   "metadata": {},
   "outputs": [
    {
     "name": "stdout",
     "output_type": "stream",
     "text": [
      "type + dataset\n",
      "id + https://doi.org/10.5281/zenodo.2544171\n",
      "categories + ['pernoctaciones', 'Cantabria']\n",
      "author + [{'literal': 'UC'}]\n",
      "issued + {'date-parts': [[2019, 1, 19]]}\n",
      "abstract + DATOS ORIGINALES\n",
      "\n",
      "http://www.icane.es/data/travelers-overnight-stays-average-stays-origin-areas/results#content\n",
      "DOI + 10.5281/zenodo.2544171\n",
      "publisher + Zenodo\n",
      "title + pernoctaciones_estancia_media_procedencia_zonas_Cantabria\n",
      "URL + https://zenodo.org/record/2544171\n"
     ]
    },
    {
     "data": {
      "text/plain": [
       "'https://zenodo.org/record/2544171'"
      ]
     },
     "execution_count": 4,
     "metadata": {},
     "output_type": "execute_result"
    }
   ],
   "source": [
    "data = json.loads(r.text)\n",
    "for elem in data:\n",
    "    print(elem, '+' ,data[elem])\n",
    "    if elem == 'URL':\n",
    "        url = data[elem]\n",
    "url"
   ]
  },
  {
   "cell_type": "code",
   "execution_count": 5,
   "metadata": {},
   "outputs": [],
   "source": [
    "headers = {'accept': 'application/json'}\n",
    "r2 = requests.get('https://zenodo.org/api/records/'+[str(s) for s in url.split('/') if s.isdigit()][0],headers)"
   ]
  },
  {
   "cell_type": "code",
   "execution_count": 6,
   "metadata": {
    "scrolled": true
   },
   "outputs": [
    {
     "data": {
      "text/plain": [
       "{'conceptdoi': '10.5281/zenodo.2544171',\n",
       " 'conceptrecid': '2544171',\n",
       " 'created': '2019-01-19T12:41:13.508788+00:00',\n",
       " 'doi': '10.5281/zenodo.2544172',\n",
       " 'files': [{'bucket': '25287248-2431-4843-becd-5dcb22ab0a1b',\n",
       "   'checksum': 'md5:73ef20b1500d82ece67268f0cd95fd9b',\n",
       "   'key': 'pernoctaciones_estancia_media_procedencia_zonas_Cantabria.csv',\n",
       "   'links': {'self': 'https://zenodo.org/api/files/25287248-2431-4843-becd-5dcb22ab0a1b/pernoctaciones_estancia_media_procedencia_zonas_Cantabria.csv'},\n",
       "   'size': 634947,\n",
       "   'type': 'csv'}],\n",
       " 'id': 2544172,\n",
       " 'links': {'badge': 'https://zenodo.org/badge/doi/10.5281/zenodo.2544172.svg',\n",
       "  'bucket': 'https://zenodo.org/api/files/25287248-2431-4843-becd-5dcb22ab0a1b',\n",
       "  'conceptbadge': 'https://zenodo.org/badge/doi/10.5281/zenodo.2544171.svg',\n",
       "  'conceptdoi': 'https://doi.org/10.5281/zenodo.2544171',\n",
       "  'doi': 'https://doi.org/10.5281/zenodo.2544172',\n",
       "  'html': 'https://zenodo.org/record/2544172',\n",
       "  'latest': 'https://zenodo.org/api/records/2544172',\n",
       "  'latest_html': 'https://zenodo.org/record/2544172',\n",
       "  'self': 'https://zenodo.org/api/records/2544172'},\n",
       " 'metadata': {'access_right': 'open',\n",
       "  'access_right_category': 'success',\n",
       "  'communities': [{'id': 'dlcturismouc'}],\n",
       "  'creators': [{'affiliation': 'Students', 'name': 'UC'}],\n",
       "  'description': '<p>DATOS ORIGINALES</p>\\n\\n<p>http://www.icane.es/data/travelers-overnight-stays-average-stays-origin-areas/results#content</p>',\n",
       "  'doi': '10.5281/zenodo.2544172',\n",
       "  'keywords': ['pernoctaciones', 'Cantabria'],\n",
       "  'license': {'id': 'CC-BY-4.0'},\n",
       "  'notes': 'http://www.icane.es/data/travelers-overnight-stays-average-stays-origin-areas/results#content',\n",
       "  'publication_date': '2019-01-19',\n",
       "  'references': ['http://www.icane.es/data/travelers-overnight-stays-average-stays-origin-areas/results#content'],\n",
       "  'related_identifiers': [{'identifier': '10.5281/zenodo.2544171',\n",
       "    'relation': 'isVersionOf',\n",
       "    'scheme': 'doi'}],\n",
       "  'relations': {'version': [{'count': 1,\n",
       "     'index': 0,\n",
       "     'is_last': True,\n",
       "     'last_child': {'pid_type': 'recid', 'pid_value': '2544172'},\n",
       "     'parent': {'pid_type': 'recid', 'pid_value': '2544171'}}]},\n",
       "  'resource_type': {'title': 'Dataset', 'type': 'dataset'},\n",
       "  'title': 'pernoctaciones_estancia_media_procedencia_zonas_Cantabria',\n",
       "  'version': '1.0'},\n",
       " 'owners': [58439],\n",
       " 'revision': 2,\n",
       " 'stats': {'downloads': 0.0,\n",
       "  'unique_downloads': 0.0,\n",
       "  'unique_views': 0.0,\n",
       "  'version_downloads': 0.0,\n",
       "  'version_unique_downloads': 0.0,\n",
       "  'version_unique_views': 0.0,\n",
       "  'version_views': 0.0,\n",
       "  'version_volume': 0.0,\n",
       "  'views': 0.0,\n",
       "  'volume': 0.0},\n",
       " 'updated': '2019-01-19T13:32:39.149556+00:00'}"
      ]
     },
     "execution_count": 6,
     "metadata": {},
     "output_type": "execute_result"
    }
   ],
   "source": [
    "data = json.loads(r2.text)\n",
    "data"
   ]
  },
  {
   "cell_type": "code",
   "execution_count": 7,
   "metadata": {},
   "outputs": [],
   "source": [
    "for elem in data:\n",
    "    if elem == 'files':\n",
    "        csv = data[elem][0]['links']['self']"
   ]
  },
  {
   "cell_type": "code",
   "execution_count": 64,
   "metadata": {},
   "outputs": [],
   "source": [
    "oai = requests.get(csv)\n",
    "with open('Cantabria_data/data_cantabria.csv', 'wb') as f:\n",
    "    f.write(oai.content)"
   ]
  },
  {
   "cell_type": "markdown",
   "metadata": {},
   "source": [
    "# Descarga de código\n",
    "\n",
    "Desde Zenodo, utilizando los métodos conocidos (OAI-PMH, API)\n",
    "\n",
    "<div class=\"alert alert-warning\" role=\"alert\" style=\"margin: 10px\">\n",
    "<p>Zenodo guarda un zip con el código</p>\n",
    "</div>\n",
    "\n",
    "\n",
    "\n",
    "[![DOI](https://zenodo.org/badge/DOI/10.5281/zenodo.2544198.svg)](https://doi.org/10.5281/zenodo.2544198)\n",
    "\n"
   ]
  },
  {
   "cell_type": "code",
   "execution_count": 58,
   "metadata": {},
   "outputs": [],
   "source": [
    "doi = '2544198' #DOI solver URL\n",
    "headers = {'accept': 'application/json'}\n",
    "r = requests.get('https://zenodo.org/api/records/'+doi,headers)"
   ]
  },
  {
   "cell_type": "code",
   "execution_count": 59,
   "metadata": {
    "scrolled": false
   },
   "outputs": [
    {
     "data": {
      "text/plain": [
       "{'conceptdoi': '10.5281/zenodo.2544197',\n",
       " 'conceptrecid': '2544197',\n",
       " 'created': '2019-01-19T14:30:04.824242+00:00',\n",
       " 'doi': '10.5281/zenodo.2544198',\n",
       " 'files': [{'bucket': 'e816016b-4a9b-484e-9579-b161b7feda63',\n",
       "   'checksum': 'md5:879d94eb025374aa8b59e53181317e82',\n",
       "   'key': 'joseney19/turismo_cantabria_data_curation-cantabria.zip',\n",
       "   'links': {'self': 'https://zenodo.org/api/files/e816016b-4a9b-484e-9579-b161b7feda63/joseney19/turismo_cantabria_data_curation-cantabria.zip'},\n",
       "   'size': 13327,\n",
       "   'type': 'zip'}],\n",
       " 'id': 2544198,\n",
       " 'links': {'badge': 'https://zenodo.org/badge/doi/10.5281/zenodo.2544198.svg',\n",
       "  'bucket': 'https://zenodo.org/api/files/e816016b-4a9b-484e-9579-b161b7feda63',\n",
       "  'conceptbadge': 'https://zenodo.org/badge/doi/10.5281/zenodo.2544197.svg',\n",
       "  'conceptdoi': 'https://doi.org/10.5281/zenodo.2544197',\n",
       "  'doi': 'https://doi.org/10.5281/zenodo.2544198',\n",
       "  'html': 'https://zenodo.org/record/2544198',\n",
       "  'latest': 'https://zenodo.org/api/records/2544198',\n",
       "  'latest_html': 'https://zenodo.org/record/2544198',\n",
       "  'self': 'https://zenodo.org/api/records/2544198'},\n",
       " 'metadata': {'access_right': 'open',\n",
       "  'access_right_category': 'success',\n",
       "  'creators': [{'name': 'Jose Ney Gandica Cardenas'}],\n",
       "  'description': '<p>It is use to process data of tourisms of cantabria</p>',\n",
       "  'doi': '10.5281/zenodo.2544198',\n",
       "  'license': {'id': 'other-open'},\n",
       "  'publication_date': '2019-01-19',\n",
       "  'related_identifiers': [{'identifier': 'https://github.com/joseney19/turismo_cantabria_data_curation/tree/cantabria',\n",
       "    'relation': 'isSupplementTo',\n",
       "    'scheme': 'url'},\n",
       "   {'identifier': '10.5281/zenodo.2544197',\n",
       "    'relation': 'isVersionOf',\n",
       "    'scheme': 'doi'}],\n",
       "  'relations': {'version': [{'count': 1,\n",
       "     'index': 0,\n",
       "     'is_last': True,\n",
       "     'last_child': {'pid_type': 'recid', 'pid_value': '2544198'},\n",
       "     'parent': {'pid_type': 'recid', 'pid_value': '2544197'}}]},\n",
       "  'resource_type': {'title': 'Software', 'type': 'software'},\n",
       "  'title': 'joseney19/turismo_cantabria_data_curation: first file data curation Cantabria',\n",
       "  'version': 'cantabria'},\n",
       " 'owners': [58439],\n",
       " 'revision': 2,\n",
       " 'stats': {'downloads': 0.0,\n",
       "  'unique_downloads': 0.0,\n",
       "  'unique_views': 0.0,\n",
       "  'version_downloads': 0.0,\n",
       "  'version_unique_downloads': 0.0,\n",
       "  'version_unique_views': 0.0,\n",
       "  'version_views': 0.0,\n",
       "  'version_volume': 0.0,\n",
       "  'views': 0.0,\n",
       "  'volume': 0.0},\n",
       " 'updated': '2019-01-19T14:30:07.156595+00:00'}"
      ]
     },
     "execution_count": 59,
     "metadata": {},
     "output_type": "execute_result"
    }
   ],
   "source": [
    "data = json.loads(r.text)\n",
    "data"
   ]
  },
  {
   "cell_type": "code",
   "execution_count": 60,
   "metadata": {},
   "outputs": [],
   "source": [
    "for elem in data:\n",
    "    if elem == 'files':\n",
    "        zip = data[elem][0]['links']['self']"
   ]
  },
  {
   "cell_type": "code",
   "execution_count": 61,
   "metadata": {},
   "outputs": [],
   "source": [
    "oai = requests.get(zip)\n",
    "\n",
    "with open('Cantabria_data/codigo.zip', 'wb') as f:\n",
    "    f.write(oai.content)"
   ]
  },
  {
   "cell_type": "code",
   "execution_count": 63,
   "metadata": {},
   "outputs": [],
   "source": [
    "zip_ref = zipfile.ZipFile('Cantabria_data/codigo.zip', 'r')\n",
    "zip_ref.extractall('Cantabria_data/.')\n",
    "zip_ref.close()"
   ]
  },
  {
   "cell_type": "markdown",
   "metadata": {},
   "source": [
    "# Curado de los datos Cantabria \n",
    "## Filtrado por año y estancia media\n",
    "\n",
    "Producir fichero: Otro CSV, imagen, etc"
   ]
  },
  {
   "cell_type": "code",
   "execution_count": 65,
   "metadata": {
    "scrolled": true
   },
   "outputs": [],
   "source": [
    "%run Cantabria_data/joseney19-turismo_cantabria_data_curation-4fe0735/Cantabria_estancia_media_año.py"
   ]
  },
  {
   "cell_type": "markdown",
   "metadata": {},
   "source": [
    "# Publicación de los Datos\n",
    "\n",
    "Utilizando la API de Zenodo"
   ]
  },
  {
   "cell_type": "code",
   "execution_count": 81,
   "metadata": {},
   "outputs": [],
   "source": [
    "parametros = {'access_token': 'AfIRHZFIYmbN1zNL1OQmXkxF9q4VoonBUh8AQhXQ398T8LqiRIwMDPlr47FA'}"
   ]
  },
  {
   "cell_type": "markdown",
   "metadata": {},
   "source": [
    "#### Let’s try again (replace ACCESS_TOKEN with your newly created personal access token):"
   ]
  },
  {
   "cell_type": "code",
   "execution_count": 82,
   "metadata": {},
   "outputs": [
    {
     "data": {
      "text/plain": [
       "[{'conceptrecid': '2544217',\n",
       "  'created': '2019-01-19T15:24:13.439296',\n",
       "  'files': [{'checksum': '6d4e2ff1ab1ff46fc2d4860bc92b0f7a',\n",
       "    'filename': 'data_cantabria_estancia_media_ano.csv',\n",
       "    'filesize': 1874,\n",
       "    'id': '3fa88c84-d854-49c7-865e-c20c907ba295',\n",
       "    'links': {'download': 'https://zenodo.org/api/files/aea752bc-e62c-4c1a-a4bf-a78a329f5ee8/data_cantabria_estancia_media_ano.csv',\n",
       "     'self': 'https://zenodo.org/api/deposit/depositions/2538136/files/3fa88c84-d854-49c7-865e-c20c907ba295'}}],\n",
       "  'id': 2544218,\n",
       "  'links': {'bucket': 'https://zenodo.org/api/files/aea752bc-e62c-4c1a-a4bf-a78a329f5ee8',\n",
       "   'discard': 'https://zenodo.org/api/deposit/depositions/2544218/actions/discard',\n",
       "   'edit': 'https://zenodo.org/api/deposit/depositions/2544218/actions/edit',\n",
       "   'files': 'https://zenodo.org/api/deposit/depositions/2544218/files',\n",
       "   'html': 'https://zenodo.org/deposit/2544218',\n",
       "   'latest_draft': 'https://zenodo.org/api/deposit/depositions/2544218',\n",
       "   'latest_draft_html': 'https://zenodo.org/deposit/depositions/2544218',\n",
       "   'publish': 'https://zenodo.org/api/deposit/depositions/2544218/actions/publish',\n",
       "   'self': 'https://zenodo.org/api/deposit/depositions/2544218'},\n",
       "  'metadata': {'prereserve_doi': {'doi': '10.5281/zenodo.2544218',\n",
       "    'recid': 2544218}},\n",
       "  'modified': '2019-01-19T15:24:16.623589',\n",
       "  'owner': 58439,\n",
       "  'record_id': 2544218,\n",
       "  'state': 'unsubmitted',\n",
       "  'submitted': False,\n",
       "  'title': ''},\n",
       " {'conceptrecid': '2544213',\n",
       "  'created': '2019-01-19T15:17:32.538196',\n",
       "  'files': [{'checksum': '6d4e2ff1ab1ff46fc2d4860bc92b0f7a',\n",
       "    'filename': 'data_cantabria_estancia_media_ano.csv',\n",
       "    'filesize': 1874,\n",
       "    'id': 'd3c86739-4c6d-4cc4-8bbf-d5990da190e8',\n",
       "    'links': {'download': 'https://zenodo.org/api/files/4c9c20f2-aa37-44b8-bc83-bbbb57d1aee1/data_cantabria_estancia_media_ano.csv',\n",
       "     'self': 'https://zenodo.org/api/deposit/depositions/2538136/files/d3c86739-4c6d-4cc4-8bbf-d5990da190e8'}}],\n",
       "  'id': 2544214,\n",
       "  'links': {'bucket': 'https://zenodo.org/api/files/4c9c20f2-aa37-44b8-bc83-bbbb57d1aee1',\n",
       "   'discard': 'https://zenodo.org/api/deposit/depositions/2544214/actions/discard',\n",
       "   'edit': 'https://zenodo.org/api/deposit/depositions/2544214/actions/edit',\n",
       "   'files': 'https://zenodo.org/api/deposit/depositions/2544214/files',\n",
       "   'html': 'https://zenodo.org/deposit/2544214',\n",
       "   'latest_draft': 'https://zenodo.org/api/deposit/depositions/2544214',\n",
       "   'latest_draft_html': 'https://zenodo.org/deposit/depositions/2544214',\n",
       "   'publish': 'https://zenodo.org/api/deposit/depositions/2544214/actions/publish',\n",
       "   'self': 'https://zenodo.org/api/deposit/depositions/2544214'},\n",
       "  'metadata': {'prereserve_doi': {'doi': '10.5281/zenodo.2544214',\n",
       "    'recid': 2544214}},\n",
       "  'modified': '2019-01-19T15:21:00.487882',\n",
       "  'owner': 58439,\n",
       "  'record_id': 2544214,\n",
       "  'state': 'unsubmitted',\n",
       "  'submitted': False,\n",
       "  'title': ''},\n",
       " {'conceptdoi': '10.5281/zenodo.2544197',\n",
       "  'conceptrecid': '2544197',\n",
       "  'created': '2019-01-19T14:30:01.048593',\n",
       "  'doi': '10.5281/zenodo.2544198',\n",
       "  'doi_url': 'https://doi.org/10.5281/zenodo.2544198',\n",
       "  'files': [{'checksum': '879d94eb025374aa8b59e53181317e82',\n",
       "    'filename': 'joseney19/turismo_cantabria_data_curation-cantabria.zip',\n",
       "    'filesize': 13327,\n",
       "    'id': '3147b24e-ea89-476d-ab8b-bf9715d0b357',\n",
       "    'links': {'download': 'https://zenodo.org/api/files/e816016b-4a9b-484e-9579-b161b7feda63/joseney19/turismo_cantabria_data_curation-cantabria.zip',\n",
       "     'self': 'https://zenodo.org/api/deposit/depositions/2538136/files/3147b24e-ea89-476d-ab8b-bf9715d0b357'}}],\n",
       "  'id': 2544198,\n",
       "  'links': {'badge': 'https://zenodo.org/badge/doi/10.5281/zenodo.2544198.svg',\n",
       "   'bucket': 'https://zenodo.org/api/files/c03c136c-e7cf-4bab-b570-2fe47d5d3826',\n",
       "   'conceptbadge': 'https://zenodo.org/badge/doi/10.5281/zenodo.2544197.svg',\n",
       "   'conceptdoi': 'https://doi.org/10.5281/zenodo.2544197',\n",
       "   'discard': 'https://zenodo.org/api/deposit/depositions/2544198/actions/discard',\n",
       "   'doi': 'https://doi.org/10.5281/zenodo.2544198',\n",
       "   'edit': 'https://zenodo.org/api/deposit/depositions/2544198/actions/edit',\n",
       "   'files': 'https://zenodo.org/api/deposit/depositions/2544198/files',\n",
       "   'html': 'https://zenodo.org/deposit/2544198',\n",
       "   'latest': 'https://zenodo.org/api/records/2544198',\n",
       "   'latest_html': 'https://zenodo.org/record/2544198',\n",
       "   'publish': 'https://zenodo.org/api/deposit/depositions/2544198/actions/publish',\n",
       "   'record': 'https://zenodo.org/api/records/2544198',\n",
       "   'record_html': 'https://zenodo.org/record/2544198',\n",
       "   'self': 'https://zenodo.org/api/deposit/depositions/2544198'},\n",
       "  'metadata': {'access_right': 'open',\n",
       "   'creators': [{'name': 'Jose Ney Gandica Cardenas'}],\n",
       "   'description': '<p>It is use to process data of tourisms of cantabria</p>',\n",
       "   'doi': '10.5281/zenodo.2544198',\n",
       "   'license': 'other-open',\n",
       "   'prereserve_doi': {'doi': '10.5281/zenodo.2544198', 'recid': 2544198},\n",
       "   'publication_date': '2019-01-19',\n",
       "   'related_identifiers': [{'identifier': 'https://github.com/joseney19/turismo_cantabria_data_curation/tree/cantabria',\n",
       "     'relation': 'isSupplementTo',\n",
       "     'scheme': 'url'}],\n",
       "   'title': 'joseney19/turismo_cantabria_data_curation: first file data curation Cantabria',\n",
       "   'upload_type': 'software',\n",
       "   'version': 'cantabria'},\n",
       "  'modified': '2019-01-19T14:30:05.963555',\n",
       "  'owner': 58439,\n",
       "  'record_id': 2544198,\n",
       "  'state': 'done',\n",
       "  'submitted': True,\n",
       "  'title': 'joseney19/turismo_cantabria_data_curation: first file data curation Cantabria'},\n",
       " {'conceptdoi': '10.5281/zenodo.2544177',\n",
       "  'conceptrecid': '2544177',\n",
       "  'created': '2019-01-19T12:47:31.677972',\n",
       "  'doi': '10.5281/zenodo.2544178',\n",
       "  'doi_url': 'https://doi.org/10.5281/zenodo.2544178',\n",
       "  'files': [{'checksum': '896120eed1b87a80a718a940e209da9c',\n",
       "    'filename': 'pernoctacionesporcategorias_Tenerife.xls',\n",
       "    'filesize': 82432,\n",
       "    'id': 'd5fde1a1-c3d9-45d3-a415-26b14eb21a3b',\n",
       "    'links': {'download': 'https://zenodo.org/api/files/b7f654e9-f4a5-4563-9fce-ab1d8b039eb0/pernoctacionesporcategorias_Tenerife.xls',\n",
       "     'self': 'https://zenodo.org/api/deposit/depositions/2538136/files/d5fde1a1-c3d9-45d3-a415-26b14eb21a3b'}},\n",
       "   {'checksum': 'c9573db35360f598511f23efb68b412e',\n",
       "    'filename': 'pernoctacionesporzonas_Tenerife.xls',\n",
       "    'filesize': 98304,\n",
       "    'id': '77ae6f47-97d4-42f1-a0af-39070c9ca820',\n",
       "    'links': {'download': 'https://zenodo.org/api/files/b7f654e9-f4a5-4563-9fce-ab1d8b039eb0/pernoctacionesporzonas_Tenerife.xls',\n",
       "     'self': 'https://zenodo.org/api/deposit/depositions/2538136/files/77ae6f47-97d4-42f1-a0af-39070c9ca820'}}],\n",
       "  'id': 2544178,\n",
       "  'links': {'badge': 'https://zenodo.org/badge/doi/10.5281/zenodo.2544178.svg',\n",
       "   'bucket': 'https://zenodo.org/api/files/08ac15ce-8b1f-42a4-a545-6110bb637dfb',\n",
       "   'conceptbadge': 'https://zenodo.org/badge/doi/10.5281/zenodo.2544177.svg',\n",
       "   'conceptdoi': 'https://doi.org/10.5281/zenodo.2544177',\n",
       "   'discard': 'https://zenodo.org/api/deposit/depositions/2544178/actions/discard',\n",
       "   'doi': 'https://doi.org/10.5281/zenodo.2544178',\n",
       "   'edit': 'https://zenodo.org/api/deposit/depositions/2544178/actions/edit',\n",
       "   'files': 'https://zenodo.org/api/deposit/depositions/2544178/files',\n",
       "   'html': 'https://zenodo.org/deposit/2544178',\n",
       "   'latest': 'https://zenodo.org/api/records/2544178',\n",
       "   'latest_html': 'https://zenodo.org/record/2544178',\n",
       "   'publish': 'https://zenodo.org/api/deposit/depositions/2544178/actions/publish',\n",
       "   'record': 'https://zenodo.org/api/records/2544178',\n",
       "   'record_html': 'https://zenodo.org/record/2544178',\n",
       "   'self': 'https://zenodo.org/api/deposit/depositions/2544178'},\n",
       "  'metadata': {'access_right': 'open',\n",
       "   'communities': [{'identifier': 'dlcturismouc'}],\n",
       "   'creators': [{'affiliation': 'Students', 'name': 'UC'}],\n",
       "   'description': '<p>DATOS ORIGINALES:</p>\\n\\n<p>http://www.tenerifedata.com/dataset/pernoctaciones</p>',\n",
       "   'doi': '10.5281/zenodo.2544178',\n",
       "   'keywords': ['turismo', 'tenerife', 'pernoctaciones'],\n",
       "   'license': 'CC-BY-4.0',\n",
       "   'notes': 'http://www.tenerifedata.com/dataset/pernoctaciones',\n",
       "   'prereserve_doi': {'doi': '10.5281/zenodo.2544178', 'recid': 2544178},\n",
       "   'publication_date': '2019-01-19',\n",
       "   'references': ['http://www.tenerifedata.com/dataset/pernoctaciones'],\n",
       "   'title': 'Turismo_Tenerife',\n",
       "   'upload_type': 'dataset',\n",
       "   'version': '1.0'},\n",
       "  'modified': '2019-01-19T12:48:54.537450',\n",
       "  'owner': 58439,\n",
       "  'record_id': 2544178,\n",
       "  'state': 'done',\n",
       "  'submitted': True,\n",
       "  'title': 'Turismo_Tenerife'},\n",
       " {'conceptdoi': '10.5281/zenodo.2544173',\n",
       "  'conceptrecid': '2544173',\n",
       "  'created': '2019-01-19T12:43:36.494689',\n",
       "  'doi': '10.5281/zenodo.2544174',\n",
       "  'doi_url': 'https://doi.org/10.5281/zenodo.2544174',\n",
       "  'files': [{'checksum': 'fa85a1321f19b99022c07c234fca5e13',\n",
       "    'filename': 'pernoctacionesporcategorias_Andalucia.txt',\n",
       "    'filesize': 15790,\n",
       "    'id': '1f02c406-c110-41f2-a48f-624e56564b1e',\n",
       "    'links': {'download': 'https://zenodo.org/api/files/d2a0a2a0-2f7d-4b1e-9117-aacf09c60c43/pernoctacionesporcategorias_Andalucia.txt',\n",
       "     'self': 'https://zenodo.org/api/deposit/depositions/2538136/files/1f02c406-c110-41f2-a48f-624e56564b1e'}},\n",
       "   {'checksum': '1327762c64a5a9fa3cfcbf55be5db044',\n",
       "    'filename': 'pernoctacionesporzonas_Andalucia.txt',\n",
       "    'filesize': 81548,\n",
       "    'id': 'd811b6a6-df0a-4aba-81ae-aff3873f50cb',\n",
       "    'links': {'download': 'https://zenodo.org/api/files/d2a0a2a0-2f7d-4b1e-9117-aacf09c60c43/pernoctacionesporzonas_Andalucia.txt',\n",
       "     'self': 'https://zenodo.org/api/deposit/depositions/2538136/files/d811b6a6-df0a-4aba-81ae-aff3873f50cb'}}],\n",
       "  'id': 2544174,\n",
       "  'links': {'badge': 'https://zenodo.org/badge/doi/10.5281/zenodo.2544174.svg',\n",
       "   'bucket': 'https://zenodo.org/api/files/929689de-61f0-4f8f-9e9f-085cc7557165',\n",
       "   'conceptbadge': 'https://zenodo.org/badge/doi/10.5281/zenodo.2544173.svg',\n",
       "   'conceptdoi': 'https://doi.org/10.5281/zenodo.2544173',\n",
       "   'discard': 'https://zenodo.org/api/deposit/depositions/2544174/actions/discard',\n",
       "   'doi': 'https://doi.org/10.5281/zenodo.2544174',\n",
       "   'edit': 'https://zenodo.org/api/deposit/depositions/2544174/actions/edit',\n",
       "   'files': 'https://zenodo.org/api/deposit/depositions/2544174/files',\n",
       "   'html': 'https://zenodo.org/deposit/2544174',\n",
       "   'latest': 'https://zenodo.org/api/records/2544174',\n",
       "   'latest_html': 'https://zenodo.org/record/2544174',\n",
       "   'publish': 'https://zenodo.org/api/deposit/depositions/2544174/actions/publish',\n",
       "   'record': 'https://zenodo.org/api/records/2544174',\n",
       "   'record_html': 'https://zenodo.org/record/2544174',\n",
       "   'self': 'https://zenodo.org/api/deposit/depositions/2544174'},\n",
       "  'metadata': {'access_right': 'open',\n",
       "   'communities': [{'identifier': 'dlcturismouc'}],\n",
       "   'creators': [{'affiliation': 'Students', 'name': 'UC'}],\n",
       "   'description': '<p>DATOS ORIGINALES:</p>\\n\\n<p>https://www.juntadeandalucia.es/institutodeestadisticaycartografia/badea/operaciones/consulta/anual/9848?CodOper=b3_1234&amp;codConsulta=9848</p>',\n",
       "   'doi': '10.5281/zenodo.2544174',\n",
       "   'keywords': ['Andalucía', 'turismo', 'pernoctaciones'],\n",
       "   'license': 'CC-BY-4.0',\n",
       "   'notes': 'https://www.juntadeandalucia.es/institutodeestadisticaycartografia/badea/operaciones/consulta/anual/9848?CodOper=b3_1234&codConsulta=9848',\n",
       "   'prereserve_doi': {'doi': '10.5281/zenodo.2544174', 'recid': 2544174},\n",
       "   'publication_date': '2019-01-19',\n",
       "   'references': ['https://www.juntadeandalucia.es/institutodeestadisticaycartografia/badea/operaciones/consulta/anual/9848?CodOper=b3_1234&codConsulta=9848'],\n",
       "   'title': 'turismo_andalucia',\n",
       "   'upload_type': 'dataset',\n",
       "   'version': '1.0'},\n",
       "  'modified': '2019-01-19T12:45:33.249148',\n",
       "  'owner': 58439,\n",
       "  'record_id': 2544174,\n",
       "  'state': 'done',\n",
       "  'submitted': True,\n",
       "  'title': 'turismo_andalucia'},\n",
       " {'conceptdoi': '10.5281/zenodo.2544171',\n",
       "  'conceptrecid': '2544171',\n",
       "  'created': '2019-01-19T12:39:00.494644',\n",
       "  'doi': '10.5281/zenodo.2544172',\n",
       "  'doi_url': 'https://doi.org/10.5281/zenodo.2544172',\n",
       "  'files': [{'checksum': '73ef20b1500d82ece67268f0cd95fd9b',\n",
       "    'filename': 'pernoctaciones_estancia_media_procedencia_zonas_Cantabria.csv',\n",
       "    'filesize': 634947,\n",
       "    'id': '58db5954-3161-4373-8fc6-f06886a879f9',\n",
       "    'links': {'download': 'https://zenodo.org/api/files/25287248-2431-4843-becd-5dcb22ab0a1b/pernoctaciones_estancia_media_procedencia_zonas_Cantabria.csv',\n",
       "     'self': 'https://zenodo.org/api/deposit/depositions/2538136/files/58db5954-3161-4373-8fc6-f06886a879f9'}}],\n",
       "  'id': 2544172,\n",
       "  'links': {'badge': 'https://zenodo.org/badge/doi/10.5281/zenodo.2544172.svg',\n",
       "   'bucket': 'https://zenodo.org/api/files/1c41bee8-c45b-471a-b716-1bce133559dd',\n",
       "   'conceptbadge': 'https://zenodo.org/badge/doi/10.5281/zenodo.2544171.svg',\n",
       "   'conceptdoi': 'https://doi.org/10.5281/zenodo.2544171',\n",
       "   'discard': 'https://zenodo.org/api/deposit/depositions/2544172/actions/discard',\n",
       "   'doi': 'https://doi.org/10.5281/zenodo.2544172',\n",
       "   'edit': 'https://zenodo.org/api/deposit/depositions/2544172/actions/edit',\n",
       "   'files': 'https://zenodo.org/api/deposit/depositions/2544172/files',\n",
       "   'html': 'https://zenodo.org/deposit/2544172',\n",
       "   'latest': 'https://zenodo.org/api/records/2544172',\n",
       "   'latest_html': 'https://zenodo.org/record/2544172',\n",
       "   'publish': 'https://zenodo.org/api/deposit/depositions/2544172/actions/publish',\n",
       "   'record': 'https://zenodo.org/api/records/2544172',\n",
       "   'record_html': 'https://zenodo.org/record/2544172',\n",
       "   'self': 'https://zenodo.org/api/deposit/depositions/2544172'},\n",
       "  'metadata': {'access_right': 'open',\n",
       "   'communities': [{'identifier': 'dlcturismouc'}],\n",
       "   'creators': [{'affiliation': 'Students', 'name': 'UC'}],\n",
       "   'description': '<p>DATOS ORIGINALES</p>\\n\\n<p>http://www.icane.es/data/travelers-overnight-stays-average-stays-origin-areas/results#content</p>',\n",
       "   'doi': '10.5281/zenodo.2544172',\n",
       "   'keywords': ['pernoctaciones', 'Cantabria'],\n",
       "   'license': 'CC-BY-4.0',\n",
       "   'notes': 'http://www.icane.es/data/travelers-overnight-stays-average-stays-origin-areas/results#content',\n",
       "   'prereserve_doi': {'doi': '10.5281/zenodo.2544172', 'recid': 2544172},\n",
       "   'publication_date': '2019-01-19',\n",
       "   'references': ['http://www.icane.es/data/travelers-overnight-stays-average-stays-origin-areas/results#content'],\n",
       "   'title': 'pernoctaciones_estancia_media_procedencia_zonas_Cantabria',\n",
       "   'upload_type': 'dataset',\n",
       "   'version': '1.0'},\n",
       "  'modified': '2019-01-19T12:41:14.584254',\n",
       "  'owner': 58439,\n",
       "  'record_id': 2544172,\n",
       "  'state': 'done',\n",
       "  'submitted': True,\n",
       "  'title': 'pernoctaciones_estancia_media_procedencia_zonas_Cantabria'},\n",
       " {'conceptdoi': '10.5281/zenodo.2542013',\n",
       "  'conceptrecid': '2542013',\n",
       "  'created': '2019-01-16T17:50:41.654375',\n",
       "  'doi': '10.5281/zenodo.2542014',\n",
       "  'doi_url': 'https://doi.org/10.5281/zenodo.2542014',\n",
       "  'files': [{'checksum': 'd8fe046811f007becf7d6358433d81c6',\n",
       "    'filename': 'figura_1.png',\n",
       "    'filesize': 44952,\n",
       "    'id': '3143d54b-c034-43c9-8a4e-5305d1419747',\n",
       "    'links': {'download': 'https://zenodo.org/api/files/d30b4f54-7ce4-4713-ad32-e4cb08147dff/figura_1.png',\n",
       "     'self': 'https://zenodo.org/api/deposit/depositions/2538136/files/3143d54b-c034-43c9-8a4e-5305d1419747'}}],\n",
       "  'id': 2542014,\n",
       "  'links': {'badge': 'https://zenodo.org/badge/doi/10.5281/zenodo.2542014.svg',\n",
       "   'bucket': 'https://zenodo.org/api/files/4c1c3936-8ee8-4d47-b7e3-1e5c151cea73',\n",
       "   'conceptbadge': 'https://zenodo.org/badge/doi/10.5281/zenodo.2542013.svg',\n",
       "   'conceptdoi': 'https://doi.org/10.5281/zenodo.2542013',\n",
       "   'discard': 'https://zenodo.org/api/deposit/depositions/2542014/actions/discard',\n",
       "   'doi': 'https://doi.org/10.5281/zenodo.2542014',\n",
       "   'edit': 'https://zenodo.org/api/deposit/depositions/2542014/actions/edit',\n",
       "   'files': 'https://zenodo.org/api/deposit/depositions/2542014/files',\n",
       "   'html': 'https://zenodo.org/deposit/2542014',\n",
       "   'latest': 'https://zenodo.org/api/records/2542014',\n",
       "   'latest_html': 'https://zenodo.org/record/2542014',\n",
       "   'publish': 'https://zenodo.org/api/deposit/depositions/2542014/actions/publish',\n",
       "   'record': 'https://zenodo.org/api/records/2542014',\n",
       "   'record_html': 'https://zenodo.org/record/2542014',\n",
       "   'self': 'https://zenodo.org/api/deposit/depositions/2542014',\n",
       "   'thumb250': 'https://zenodo.org/api/iiif/v2/d30b4f54-7ce4-4713-ad32-e4cb08147dff:a249a0d0-9621-40e7-9529-af3524c5133c:figura_1.png/full/250,/0/default.png'},\n",
       "  'metadata': {'access_right': 'open',\n",
       "   'creators': [{'affiliation': 'datalyfe_test_16_01_2019_unican',\n",
       "     'name': 'Ezequiel, Jose Ney'}],\n",
       "   'description': 'This is my first upload',\n",
       "   'doi': '10.5281/zenodo.2542014',\n",
       "   'license': 'CC-BY-4.0',\n",
       "   'prereserve_doi': {'doi': '10.5281/zenodo.2542014', 'recid': 2542014},\n",
       "   'publication_date': '2019-01-16',\n",
       "   'title': 'My first upload',\n",
       "   'upload_type': 'poster'},\n",
       "  'modified': '2019-01-16T17:50:48.585083',\n",
       "  'owner': 58439,\n",
       "  'record_id': 2542014,\n",
       "  'state': 'done',\n",
       "  'submitted': True,\n",
       "  'title': 'My first upload'},\n",
       " {'conceptdoi': '10.5281/zenodo.2541974',\n",
       "  'conceptrecid': '2541974',\n",
       "  'created': '2019-01-16T17:14:59.644537',\n",
       "  'doi': '10.5281/zenodo.2541975',\n",
       "  'doi_url': 'https://doi.org/10.5281/zenodo.2541975',\n",
       "  'files': [{'checksum': 'd8fe046811f007becf7d6358433d81c6',\n",
       "    'filename': 'figura_1.png',\n",
       "    'filesize': 44952,\n",
       "    'id': 'bd59a4b7-7d39-4312-91b0-ffb6001d65e0',\n",
       "    'links': {'download': 'https://zenodo.org/api/files/11dccdd9-6627-4169-a090-3be05b4fd1a7/figura_1.png',\n",
       "     'self': 'https://zenodo.org/api/deposit/depositions/2538136/files/bd59a4b7-7d39-4312-91b0-ffb6001d65e0'}}],\n",
       "  'id': 2541975,\n",
       "  'links': {'badge': 'https://zenodo.org/badge/doi/10.5281/zenodo.2541975.svg',\n",
       "   'bucket': 'https://zenodo.org/api/files/0f2c8a67-aab1-4f63-ad64-7e38e8a022c8',\n",
       "   'conceptbadge': 'https://zenodo.org/badge/doi/10.5281/zenodo.2541974.svg',\n",
       "   'conceptdoi': 'https://doi.org/10.5281/zenodo.2541974',\n",
       "   'discard': 'https://zenodo.org/api/deposit/depositions/2541975/actions/discard',\n",
       "   'doi': 'https://doi.org/10.5281/zenodo.2541975',\n",
       "   'edit': 'https://zenodo.org/api/deposit/depositions/2541975/actions/edit',\n",
       "   'files': 'https://zenodo.org/api/deposit/depositions/2541975/files',\n",
       "   'html': 'https://zenodo.org/deposit/2541975',\n",
       "   'latest': 'https://zenodo.org/api/records/2541975',\n",
       "   'latest_html': 'https://zenodo.org/record/2541975',\n",
       "   'publish': 'https://zenodo.org/api/deposit/depositions/2541975/actions/publish',\n",
       "   'record': 'https://zenodo.org/api/records/2541975',\n",
       "   'record_html': 'https://zenodo.org/record/2541975',\n",
       "   'self': 'https://zenodo.org/api/deposit/depositions/2541975',\n",
       "   'thumb250': 'https://zenodo.org/api/iiif/v2/11dccdd9-6627-4169-a090-3be05b4fd1a7:e50a82f3-301f-4fe9-8a33-c6500edcdd41:figura_1.png/full/250,/0/default.png'},\n",
       "  'metadata': {'access_right': 'open',\n",
       "   'creators': [{'affiliation': 'datalyfe_test_16_01_2019_unican',\n",
       "     'name': 'Ezequiel, Jose Ney'}],\n",
       "   'description': 'This is my first upload',\n",
       "   'doi': '10.5281/zenodo.2541975',\n",
       "   'license': 'CC-BY-4.0',\n",
       "   'prereserve_doi': {'doi': '10.5281/zenodo.2541975', 'recid': 2541975},\n",
       "   'publication_date': '2019-01-16',\n",
       "   'title': 'My first upload',\n",
       "   'upload_type': 'poster'},\n",
       "  'modified': '2019-01-16T17:26:26.613554',\n",
       "  'owner': 58439,\n",
       "  'record_id': 2541975,\n",
       "  'state': 'done',\n",
       "  'submitted': True,\n",
       "  'title': 'My first upload'},\n",
       " {'conceptrecid': '2533255',\n",
       "  'created': '2019-01-07T16:06:08.642726',\n",
       "  'id': 2533256,\n",
       "  'links': {'discard': 'https://zenodo.org/api/deposit/depositions/2533256/actions/discard',\n",
       "   'edit': 'https://zenodo.org/api/deposit/depositions/2533256/actions/edit',\n",
       "   'files': 'https://zenodo.org/api/deposit/depositions/2533256/files',\n",
       "   'html': 'https://zenodo.org/deposit/2533256',\n",
       "   'publish': 'https://zenodo.org/api/deposit/depositions/2533256/actions/publish',\n",
       "   'self': 'https://zenodo.org/api/deposit/depositions/2533256'},\n",
       "  'metadata': {'prereserve_doi': {'doi': '10.5281/zenodo.2533256',\n",
       "    'recid': 2533256}},\n",
       "  'modified': '2019-01-07T16:06:08.642748',\n",
       "  'owner': 58439,\n",
       "  'record_id': 2533256,\n",
       "  'state': 'unsubmitted',\n",
       "  'submitted': False,\n",
       "  'title': ''}]"
      ]
     },
     "execution_count": 82,
     "metadata": {},
     "output_type": "execute_result"
    }
   ],
   "source": [
    "r = requests.get('https://zenodo.org/api/deposit/depositions',\n",
    "                 params= parametros)\n",
    "r.status_code\n",
    "r.json()"
   ]
  },
  {
   "cell_type": "markdown",
   "metadata": {},
   "source": [
    "#### Next, let’s create a new empty upload:"
   ]
  },
  {
   "cell_type": "code",
   "execution_count": 83,
   "metadata": {},
   "outputs": [
    {
     "data": {
      "text/plain": [
       "{'conceptrecid': '2544219',\n",
       " 'created': '2019-01-19T15:24:55.762124+00:00',\n",
       " 'files': [],\n",
       " 'id': 2544220,\n",
       " 'links': {'bucket': 'https://zenodo.org/api/files/cef27a2e-a9e4-4d1f-96ef-649261994d4a',\n",
       "  'discard': 'https://zenodo.org/api/deposit/depositions/2544220/actions/discard',\n",
       "  'edit': 'https://zenodo.org/api/deposit/depositions/2544220/actions/edit',\n",
       "  'files': 'https://zenodo.org/api/deposit/depositions/2544220/files',\n",
       "  'html': 'https://zenodo.org/deposit/2544220',\n",
       "  'latest_draft': 'https://zenodo.org/api/deposit/depositions/2544220',\n",
       "  'latest_draft_html': 'https://zenodo.org/deposit/depositions/2544220',\n",
       "  'publish': 'https://zenodo.org/api/deposit/depositions/2544220/actions/publish',\n",
       "  'self': 'https://zenodo.org/api/deposit/depositions/2544220'},\n",
       " 'metadata': {'prereserve_doi': {'doi': '10.5281/zenodo.2544220',\n",
       "   'recid': 2544220}},\n",
       " 'modified': '2019-01-19T15:24:55.762134+00:00',\n",
       " 'owner': 58439,\n",
       " 'record_id': 2544220,\n",
       " 'state': 'unsubmitted',\n",
       " 'submitted': False,\n",
       " 'title': ''}"
      ]
     },
     "execution_count": 83,
     "metadata": {},
     "output_type": "execute_result"
    }
   ],
   "source": [
    "headers = {\"Content-Type\": \"application/json\"}\n",
    "r = requests.post('https://zenodo.org/api/deposit/depositions',\n",
    "                   params=parametros, json={},\n",
    "                   headers=headers)\n",
    "r.status_code\n",
    "r.json()"
   ]
  },
  {
   "cell_type": "markdown",
   "metadata": {},
   "source": [
    "#### Now, let’s upload a new file:"
   ]
  },
  {
   "cell_type": "code",
   "execution_count": 84,
   "metadata": {},
   "outputs": [
    {
     "data": {
      "text/plain": [
       "{'checksum': '6d4e2ff1ab1ff46fc2d4860bc92b0f7a',\n",
       " 'filename': 'data_cantabria_estancia_media_ano.csv',\n",
       " 'filesize': 1874,\n",
       " 'id': 'd9990565-17c3-4ed7-a141-16ffc6681b86',\n",
       " 'links': {'download': 'https://zenodo.org/api/files/cef27a2e-a9e4-4d1f-96ef-649261994d4a/data_cantabria_estancia_media_ano.csv',\n",
       "  'self': 'https://zenodo.org/api/deposit/depositions/2544220/files/d9990565-17c3-4ed7-a141-16ffc6681b86'}}"
      ]
     },
     "execution_count": 84,
     "metadata": {},
     "output_type": "execute_result"
    }
   ],
   "source": [
    "# Get the deposition id from the previous response\n",
    "deposition_id = r.json()['id']\n",
    "data = {'filename': 'data_cantabria_estancia_media_año'}\n",
    "files = {'file': open('./Cantabria_data/data_cantabria_estancia_media_año.csv', 'rb')}\n",
    "r = requests.post('https://zenodo.org/api/deposit/depositions/%s/files' % deposition_id,\n",
    "                   params=parametros, data=data,\n",
    "                   files=files)\n",
    "r.status_code\n",
    "r.json()"
   ]
  },
  {
   "cell_type": "markdown",
   "metadata": {},
   "source": [
    "#### Last thing missing, is just to add some metadata:"
   ]
  },
  {
   "cell_type": "code",
   "execution_count": 87,
   "metadata": {},
   "outputs": [
    {
     "data": {
      "text/plain": [
       "200"
      ]
     },
     "execution_count": 87,
     "metadata": {},
     "output_type": "execute_result"
    }
   ],
   "source": [
    "data = {\n",
    "     'metadata': {\n",
    "         'title': 'data_cantabria_estancia_media_año',\n",
    "         'upload_type': 'poster',\n",
    "         'description': 'data_cantabria_estancia_media_año curated file',\n",
    "         'creators': [{'name': 'UC, Students',\n",
    "                       'affiliation': 'dlcturismouc'}]\n",
    "     }\n",
    "}\n",
    "r = requests.put('https://zenodo.org/api/deposit/depositions/%s' % deposition_id,\n",
    "                  params=parametros, data=json.dumps(data),\n",
    "                  headers=headers)\n",
    "r.status_code"
   ]
  },
  {
   "cell_type": "markdown",
   "metadata": {},
   "source": [
    "#### And we’re ready to publish:"
   ]
  },
  {
   "cell_type": "code",
   "execution_count": 88,
   "metadata": {},
   "outputs": [
    {
     "data": {
      "text/plain": [
       "202"
      ]
     },
     "execution_count": 88,
     "metadata": {},
     "output_type": "execute_result"
    }
   ],
   "source": [
    "r = requests.post('https://zenodo.org/api/deposit/depositions/%s/actions/publish' % deposition_id,\n",
    "                      params=parametros )\n",
    "r.status_code"
   ]
  }
 ],
 "metadata": {
  "kernelspec": {
   "display_name": "Python 3",
   "language": "python",
   "name": "python3"
  },
  "language_info": {
   "codemirror_mode": {
    "name": "ipython",
    "version": 3
   },
   "file_extension": ".py",
   "mimetype": "text/x-python",
   "name": "python",
   "nbconvert_exporter": "python",
   "pygments_lexer": "ipython3",
   "version": "3.7.0"
  }
 },
 "nbformat": 4,
 "nbformat_minor": 2
}
